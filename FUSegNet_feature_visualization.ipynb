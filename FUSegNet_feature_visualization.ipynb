{
  "cells": [
    {
      "cell_type": "code",
      "execution_count": null,
      "metadata": {
        "colab": {
          "base_uri": "https://localhost:8080/"
        },
        "id": "NtZrR6Lpamzt",
        "outputId": "0720d55f-bc7d-43d1-f88d-dcf4ab3f69dc"
      },
      "outputs": [
        {
          "output_type": "stream",
          "name": "stdout",
          "text": [
            "Drive already mounted at /content/drive; to attempt to forcibly remount, call drive.mount(\"/content/drive\", force_remount=True).\n"
          ]
        }
      ],
      "source": [
        "from google.colab import drive\n",
        "drive.mount('/content/drive')"
      ]
    },
    {
      "cell_type": "code",
      "execution_count": null,
      "metadata": {
        "id": "wKYTa1YNahpR"
      },
      "outputs": [],
      "source": [
        "import sys\n",
        "sys.path.append('/content/drive/MyDrive/Foot_ulcer_torch')\n",
        "sys.path.append('/content/drive/MyDrive/Foot_ulcer_torch/sm_library')\n",
        "sys.path.append('/content/drive/MyDrive/Foot_ulcer_torch/utils')"
      ]
    },
    {
      "cell_type": "code",
      "execution_count": null,
      "metadata": {
        "id": "5QTR9txvZlTj"
      },
      "outputs": [],
      "source": [
        "# !pip install segmentation-models-pytorch --target='/content/drive/MyDrive/Foot_ulcer_torch/sm_library'\n",
        "# !pip install git+https://github.com/qubvel/segmentation_models.pytorch --target='/content/drive/MyDrive/Foot_ulcer_torch/sm_library'\n",
        "# !pip install albumentations --target='/content/drive/MyDrive/Foot_ulcer_torch/sm_library'\n",
        "# !pip install certifi --target='/content/drive/MyDrive/Foot_ulcer_torch/sm_library'"
      ]
    },
    {
      "cell_type": "code",
      "execution_count": null,
      "metadata": {
        "id": "wWvUuJ7xZ17E"
      },
      "outputs": [],
      "source": [
        "import torch\n",
        "from torch.utils.data import DataLoader\n",
        "from torch.utils.data import Dataset as BaseDataset\n",
        "import albumentations as albu\n",
        "import cv2\n",
        "import numpy as np\n",
        "import segmentation_models_pytorch as smp\n",
        "from segmentation_models_pytorch.utils import metrics, losses, base\n",
        "import random\n",
        "import matplotlib.pyplot as plt\n",
        "import os\n",
        "from copy import deepcopy\n",
        "from datetime import datetime\n",
        "\n",
        "%matplotlib inline"
      ]
    },
    {
      "cell_type": "markdown",
      "metadata": {
        "id": "u1TTozpn-D8o"
      },
      "source": [
        "## Dataloader"
      ]
    },
    {
      "cell_type": "code",
      "execution_count": null,
      "metadata": {
        "id": "nx_iN5gGarSj"
      },
      "outputs": [],
      "source": [
        "class Dataset(BaseDataset):\n",
        "    \"\"\"CamVid Dataset. Read images, apply augmentation and preprocessing transformations.\n",
        "    \n",
        "    Args:\n",
        "        images_dir (str): path to images folder\n",
        "        masks_dir (str): path to segmentation masks folder\n",
        "        augmentation (albumentations.Compose): data transfromation pipeline \n",
        "            (e.g. flip, scale, etc.)\n",
        "        preprocessing (albumentations.Compose): data preprocessing \n",
        "            (e.g. noralization, shape manipulation, etc.)\n",
        "    \n",
        "    \"\"\"\n",
        "    \n",
        "    def __init__(\n",
        "            self, \n",
        "            list_IDs,\n",
        "            images_dir, \n",
        "            masks_dir, \n",
        "            augmentation=None, \n",
        "            preprocessing=None,\n",
        "    ):\n",
        "        self.ids = list_IDs\n",
        "        self.images_fps = [os.path.join(images_dir, image_id) for image_id in self.ids]\n",
        "        self.masks_fps = [os.path.join(masks_dir, image_id) for image_id in self.ids]\n",
        "              \n",
        "        self.augmentation = augmentation\n",
        "        self.preprocessing = preprocessing\n",
        "    \n",
        "    def __getitem__(self, i):\n",
        "        \n",
        "        # read data\n",
        "        image = cv2.imread(self.images_fps[i])\n",
        "        image = cv2.cvtColor(image, cv2.COLOR_BGR2RGB) \n",
        "        mask = cv2.imread(self.masks_fps[i], 0) # graychannel # ----------------- pay attention ------------------ #\n",
        "        mask = mask/255.0   # converting mask to (0 and 1) # ----------------- pay attention ------------------ #\n",
        "        mask = np.expand_dims(mask, axis=-1)  # adding channel axis # ----------------- pay attention ------------------ #\n",
        "        \n",
        "        # apply augmentations\n",
        "        if self.augmentation:\n",
        "            sample = self.augmentation(image=image, mask=mask)\n",
        "            image, mask = sample['image'], sample['mask']\n",
        "        \n",
        "        # apply preprocessing\n",
        "        if self.preprocessing:\n",
        "            sample = self.preprocessing(image=image, mask=mask)\n",
        "            image, mask = sample['image'], sample['mask']\n",
        "            \n",
        "        return image, mask\n",
        "        \n",
        "    def __len__(self):\n",
        "        return len(self.ids)"
      ]
    },
    {
      "cell_type": "markdown",
      "metadata": {
        "id": "yB8RKETkALtF"
      },
      "source": [
        "## Augmentation"
      ]
    },
    {
      "cell_type": "code",
      "execution_count": null,
      "metadata": {
        "id": "T-ltFwaGAK3c"
      },
      "outputs": [],
      "source": [
        "def get_training_augmentation():\n",
        "    train_transform = [\n",
        "\n",
        "        albu.OneOf(\n",
        "            [\n",
        "                albu.HorizontalFlip(p=0.8),\n",
        "                albu.VerticalFlip(p=0.4),\n",
        "            ],\n",
        "            p=0.5,\n",
        "        ),\n",
        "        \n",
        "        albu.OneOf(\n",
        "            [\n",
        "                albu.ShiftScaleRotate(scale_limit=0.5, rotate_limit=0, shift_limit=0, p=1, border_mode=0), # scale only\n",
        "                albu.ShiftScaleRotate(scale_limit=0, rotate_limit=30, shift_limit=0, p=1, border_mode=0), # rotate only\n",
        "                albu.ShiftScaleRotate(scale_limit=0, rotate_limit=0, shift_limit=0.1, p=1, border_mode=0), # shift only\n",
        "                albu.ShiftScaleRotate(scale_limit=0.5, rotate_limit=30, shift_limit=0.1, p=1, border_mode=0), # affine transform\n",
        "            ],\n",
        "            p=0.9,\n",
        "        ),\n",
        "\n",
        "        # albu.PadIfNeeded(min_height=320, min_width=320, always_apply=True, border_mode=0),\n",
        "        # albu.RandomCrop(height=320, width=320, always_apply=True),\n",
        "\n",
        "        albu.OneOf(\n",
        "            [\n",
        "                albu.Perspective(p=1),\n",
        "                albu.GaussNoise(p=1),\n",
        "                albu.Sharpen(p=1),\n",
        "                albu.Blur(blur_limit=3, p=1),\n",
        "                albu.MotionBlur(blur_limit=3, p=1),\n",
        "            ],\n",
        "            p=0.2,\n",
        "        ),\n",
        "\n",
        "        albu.OneOf(\n",
        "            [\n",
        "                albu.CLAHE(p=1),\n",
        "                albu.RandomBrightnessContrast(brightness_limit=0.2, contrast_limit=0.2, p=1),\n",
        "                albu.RandomGamma(p=1),\n",
        "                albu.HueSaturationValue(p=1),\n",
        "            ],\n",
        "            p=0.2,\n",
        "        ),\n",
        "        \n",
        "    ]\n",
        "\n",
        "    return albu.Compose(train_transform, p=0.9) # 90% augmentation probability\n",
        "\n",
        "\n",
        "def get_validation_augmentation():\n",
        "    \"\"\"Add paddings to make image shape divisible by 32\"\"\"\n",
        "    test_transform = [\n",
        "        # albu.PadIfNeeded(512, 512)\n",
        "    ]\n",
        "    return albu.Compose(test_transform)\n",
        "\n",
        "\n",
        "def to_tensor(x, **kwargs):\n",
        "    return x.transpose(2, 0, 1).astype('float32')\n",
        "\n",
        "\n",
        "def get_preprocessing(preprocessing_fn):\n",
        "    \"\"\"Construct preprocessing transform\n",
        "    \n",
        "    Args:\n",
        "        preprocessing_fn (callbale): data normalization function \n",
        "            (can be specific for each pretrained neural network)\n",
        "    Return:\n",
        "        transform: albumentations.Compose\n",
        "    \n",
        "    \"\"\"\n",
        "    \n",
        "    _transform = [\n",
        "        albu.Lambda(image=preprocessing_fn),\n",
        "        albu.Lambda(image=to_tensor, mask=to_tensor),\n",
        "    ]\n",
        "    return albu.Compose(_transform) "
      ]
    },
    {
      "cell_type": "markdown",
      "metadata": {
        "id": "6KRxrncX_p0v"
      },
      "source": [
        "## Split dataset"
      ]
    },
    {
      "cell_type": "code",
      "execution_count": null,
      "metadata": {
        "id": "6SRrhpEIaGqz",
        "colab": {
          "base_uri": "https://localhost:8080/"
        },
        "outputId": "e8d18da0-b991-44a1-ebe0-848eb0579d2d"
      },
      "outputs": [
        {
          "output_type": "stream",
          "name": "stdout",
          "text": [
            "No. of test images:  278\n"
          ]
        }
      ],
      "source": [
        "#%% Load dataset\n",
        "x_test_dir = '/content/drive/MyDrive/Dataset/azh_wound_care_center_dataset_patches/test/images'\n",
        "y_test_dir = '/content/drive/MyDrive/Dataset/azh_wound_care_center_dataset_patches/test/labels'\n",
        "\n",
        "list_IDs_test = os.listdir(x_test_dir)\n",
        "\n",
        "print('No. of test images: ', len(list_IDs_test))"
      ]
    },
    {
      "cell_type": "code",
      "source": [
        "list_IDs_test.index('b23232898bafcf304b2138af86be40b9_0.png')\n",
        "# list_IDs_test.index('fa6fb6f94a3ba6c9b98ba40a3e0d1175_2.png')"
      ],
      "metadata": {
        "colab": {
          "base_uri": "https://localhost:8080/"
        },
        "id": "cNsxEtSPszAT",
        "outputId": "c6e9c3b8-c97a-4e64-d870-83c2773c8c2c"
      },
      "execution_count": null,
      "outputs": [
        {
          "output_type": "execute_result",
          "data": {
            "text/plain": [
              "0"
            ]
          },
          "metadata": {},
          "execution_count": 61
        }
      ]
    },
    {
      "cell_type": "markdown",
      "metadata": {
        "id": "Z9xxDHfp_yFO"
      },
      "source": [
        "## Parameters"
      ]
    },
    {
      "cell_type": "code",
      "execution_count": null,
      "metadata": {
        "id": "Yq5o1vzBYxN0"
      },
      "outputs": [],
      "source": [
        "# Parameters\n",
        "BASE_MODEL = 'Unet+scse'\n",
        "ENCODER = 'efficientnet-b7'\n",
        "ENCODER_WEIGHTS = 'imagenet'\n",
        "BATCH_SIZE = 2\n",
        "n_classes = 1 \n",
        "ACTIVATION = 'sigmoid' # could be None for logits or 'softmax2d' for multiclass segmentation\n",
        "DEVICE = torch.device(\"cuda\" if torch.cuda.is_available() else \"cpu\")\n",
        "LR = 0.0001 # learning rate\n",
        "EPOCHS = 200\n",
        "WEIGHT_DECAY = 1e-5\n",
        "SAVE_WEIGHTS_ONLY = True\n",
        "TO_CATEGORICAL = False\n",
        "SAVE_BEST_MODEL = True\n",
        "SAVE_LAST_MODEL = True\n",
        "\n",
        "PERIOD = 10 # periodically save checkpoints\n",
        "RAW_PREDICTION = False # if true, then stores raw predictions (i.e. before applying threshold)\n",
        "RETRAIN = False\n",
        "\n",
        "# For early stopping \n",
        "EARLY_STOP = False # True to activate early stopping\n",
        "PATIENCE = 50 # for early stopping"
      ]
    },
    {
      "cell_type": "markdown",
      "metadata": {
        "id": "gkk8Gaove69f"
      },
      "source": [
        "# Build model"
      ]
    },
    {
      "cell_type": "code",
      "execution_count": null,
      "metadata": {
        "id": "5Ey12h9jMX1q"
      },
      "outputs": [],
      "source": [
        "import ssl\n",
        "ssl._create_default_https_context = ssl._create_unverified_context\n",
        "\n",
        "aux_params=dict(\n",
        "    classes=n_classes, \n",
        "    activation=ACTIVATION,\n",
        "    dropout=0.1, # dropout ratio, default is None\n",
        ")\n",
        "\n",
        "# create segmentation model with pretrained encoder\n",
        "model = smp.Unet(\n",
        "    encoder_name=ENCODER, \n",
        "    encoder_weights=ENCODER_WEIGHTS,     \n",
        "    # aux_params=aux_params,\n",
        "    classes=n_classes, \n",
        "    activation=ACTIVATION,\n",
        "    decoder_attention_type='scse',\n",
        ")\n",
        "\n",
        "preprocessing_fn = smp.encoders.get_preprocessing_fn(ENCODER, ENCODER_WEIGHTS)"
      ]
    },
    {
      "cell_type": "markdown",
      "metadata": {
        "id": "7qcadi38Ac5H"
      },
      "source": [
        "## Loss, optimizer, metrics, and callbacks"
      ]
    },
    {
      "cell_type": "code",
      "source": [
        "# Loss function\n",
        "dice_loss = losses.DiceLoss()\n",
        "focal_loss = losses.FocalLoss() \n",
        "total_loss = base.SumOfLosses(dice_loss, focal_loss)\n",
        "\n",
        "# Metrics\n",
        "metrics = [\n",
        "    metrics.IoU(threshold=0.5),\n",
        "    metrics.Fscore(threshold=0.5),\n",
        "]\n",
        "\n",
        "# Optimizer\n",
        "optimizer = torch.optim.Adam([ \n",
        "    dict(params=model.parameters(), lr=LR, weight_decay=WEIGHT_DECAY),\n",
        "])\n",
        "\n",
        "# Learning rate scheduler\n",
        "scheduler = torch.optim.lr_scheduler.ReduceLROnPlateau(optimizer, \n",
        "                              factor=0.1,\n",
        "                              mode='min',\n",
        "                              patience=10,\n",
        "                              min_lr=0.00001,\n",
        "                              verbose=True,\n",
        "                              )"
      ],
      "metadata": {
        "id": "26g3jFOZyWmg"
      },
      "execution_count": null,
      "outputs": []
    },
    {
      "cell_type": "markdown",
      "metadata": {
        "id": "zWhXVUtHEnT7"
      },
      "source": [
        "## Inference"
      ]
    },
    {
      "cell_type": "markdown",
      "metadata": {
        "id": "Jjfqn5YI5rnG"
      },
      "source": [
        "Load model"
      ]
    },
    {
      "cell_type": "code",
      "execution_count": null,
      "metadata": {
        "id": "EB41dkBfEpiD"
      },
      "outputs": [],
      "source": [
        "# load best saved checkpoint\n",
        "model_name = 'Unet_pscsev1_efficientnet-b7_2023-02-28_10-05-44' # PscSE\n",
        "# model_name = 'Unet+scse_additive_efficientnet-b7_2023-03-01_18-56-05' #scSE\n",
        "# model_name = 'Unet+scse_efficientnet-b7_2023-02-19_01-21-41'\n",
        "checkpoint_loc = '/content/drive/MyDrive/Foot_ulcer_torch/checkpoints_oldDfu/' + model_name\n",
        "\n",
        "checkpoint = torch.load(os.path.join(checkpoint_loc, 'best_model.pth'))\n",
        "model.load_state_dict(checkpoint['state_dict'])\n",
        "optimizer.load_state_dict(checkpoint['optimizer'])\n",
        "\n",
        "# Uncomment if to load periodically saved checkpoints\n",
        "# model = torch.load(os.path.join(checkpoint_loc, 'cp-0050.pth'))"
      ]
    },
    {
      "cell_type": "code",
      "source": [
        "model"
      ],
      "metadata": {
        "id": "Ov7G8lFpNqCZ",
        "colab": {
          "base_uri": "https://localhost:8080/"
        },
        "outputId": "da1761be-95ef-492f-ed67-58712dc3d689"
      },
      "execution_count": null,
      "outputs": [
        {
          "output_type": "execute_result",
          "data": {
            "text/plain": [
              "Unet(\n",
              "  (encoder): EfficientNetEncoder(\n",
              "    (_conv_stem): Conv2dStaticSamePadding(\n",
              "      3, 64, kernel_size=(3, 3), stride=(2, 2), bias=False\n",
              "      (static_padding): ZeroPad2d((0, 1, 0, 1))\n",
              "    )\n",
              "    (_bn0): BatchNorm2d(64, eps=0.001, momentum=0.010000000000000009, affine=True, track_running_stats=True)\n",
              "    (_blocks): ModuleList(\n",
              "      (0): MBConvBlock(\n",
              "        (_depthwise_conv): Conv2dStaticSamePadding(\n",
              "          64, 64, kernel_size=(3, 3), stride=[1, 1], groups=64, bias=False\n",
              "          (static_padding): ZeroPad2d((1, 1, 1, 1))\n",
              "        )\n",
              "        (_bn1): BatchNorm2d(64, eps=0.001, momentum=0.010000000000000009, affine=True, track_running_stats=True)\n",
              "        (_se_reduce): Conv2dStaticSamePadding(\n",
              "          64, 16, kernel_size=(1, 1), stride=(1, 1)\n",
              "          (static_padding): Identity()\n",
              "        )\n",
              "        (_se_expand): Conv2dStaticSamePadding(\n",
              "          16, 64, kernel_size=(1, 1), stride=(1, 1)\n",
              "          (static_padding): Identity()\n",
              "        )\n",
              "        (_project_conv): Conv2dStaticSamePadding(\n",
              "          64, 32, kernel_size=(1, 1), stride=(1, 1), bias=False\n",
              "          (static_padding): Identity()\n",
              "        )\n",
              "        (_bn2): BatchNorm2d(32, eps=0.001, momentum=0.010000000000000009, affine=True, track_running_stats=True)\n",
              "        (_swish): MemoryEfficientSwish()\n",
              "      )\n",
              "      (1-3): 3 x MBConvBlock(\n",
              "        (_depthwise_conv): Conv2dStaticSamePadding(\n",
              "          32, 32, kernel_size=(3, 3), stride=(1, 1), groups=32, bias=False\n",
              "          (static_padding): ZeroPad2d((1, 1, 1, 1))\n",
              "        )\n",
              "        (_bn1): BatchNorm2d(32, eps=0.001, momentum=0.010000000000000009, affine=True, track_running_stats=True)\n",
              "        (_se_reduce): Conv2dStaticSamePadding(\n",
              "          32, 8, kernel_size=(1, 1), stride=(1, 1)\n",
              "          (static_padding): Identity()\n",
              "        )\n",
              "        (_se_expand): Conv2dStaticSamePadding(\n",
              "          8, 32, kernel_size=(1, 1), stride=(1, 1)\n",
              "          (static_padding): Identity()\n",
              "        )\n",
              "        (_project_conv): Conv2dStaticSamePadding(\n",
              "          32, 32, kernel_size=(1, 1), stride=(1, 1), bias=False\n",
              "          (static_padding): Identity()\n",
              "        )\n",
              "        (_bn2): BatchNorm2d(32, eps=0.001, momentum=0.010000000000000009, affine=True, track_running_stats=True)\n",
              "        (_swish): MemoryEfficientSwish()\n",
              "      )\n",
              "      (4): MBConvBlock(\n",
              "        (_expand_conv): Conv2dStaticSamePadding(\n",
              "          32, 192, kernel_size=(1, 1), stride=(1, 1), bias=False\n",
              "          (static_padding): Identity()\n",
              "        )\n",
              "        (_bn0): BatchNorm2d(192, eps=0.001, momentum=0.010000000000000009, affine=True, track_running_stats=True)\n",
              "        (_depthwise_conv): Conv2dStaticSamePadding(\n",
              "          192, 192, kernel_size=(3, 3), stride=[2, 2], groups=192, bias=False\n",
              "          (static_padding): ZeroPad2d((0, 1, 0, 1))\n",
              "        )\n",
              "        (_bn1): BatchNorm2d(192, eps=0.001, momentum=0.010000000000000009, affine=True, track_running_stats=True)\n",
              "        (_se_reduce): Conv2dStaticSamePadding(\n",
              "          192, 8, kernel_size=(1, 1), stride=(1, 1)\n",
              "          (static_padding): Identity()\n",
              "        )\n",
              "        (_se_expand): Conv2dStaticSamePadding(\n",
              "          8, 192, kernel_size=(1, 1), stride=(1, 1)\n",
              "          (static_padding): Identity()\n",
              "        )\n",
              "        (_project_conv): Conv2dStaticSamePadding(\n",
              "          192, 48, kernel_size=(1, 1), stride=(1, 1), bias=False\n",
              "          (static_padding): Identity()\n",
              "        )\n",
              "        (_bn2): BatchNorm2d(48, eps=0.001, momentum=0.010000000000000009, affine=True, track_running_stats=True)\n",
              "        (_swish): MemoryEfficientSwish()\n",
              "      )\n",
              "      (5-10): 6 x MBConvBlock(\n",
              "        (_expand_conv): Conv2dStaticSamePadding(\n",
              "          48, 288, kernel_size=(1, 1), stride=(1, 1), bias=False\n",
              "          (static_padding): Identity()\n",
              "        )\n",
              "        (_bn0): BatchNorm2d(288, eps=0.001, momentum=0.010000000000000009, affine=True, track_running_stats=True)\n",
              "        (_depthwise_conv): Conv2dStaticSamePadding(\n",
              "          288, 288, kernel_size=(3, 3), stride=(1, 1), groups=288, bias=False\n",
              "          (static_padding): ZeroPad2d((1, 1, 1, 1))\n",
              "        )\n",
              "        (_bn1): BatchNorm2d(288, eps=0.001, momentum=0.010000000000000009, affine=True, track_running_stats=True)\n",
              "        (_se_reduce): Conv2dStaticSamePadding(\n",
              "          288, 12, kernel_size=(1, 1), stride=(1, 1)\n",
              "          (static_padding): Identity()\n",
              "        )\n",
              "        (_se_expand): Conv2dStaticSamePadding(\n",
              "          12, 288, kernel_size=(1, 1), stride=(1, 1)\n",
              "          (static_padding): Identity()\n",
              "        )\n",
              "        (_project_conv): Conv2dStaticSamePadding(\n",
              "          288, 48, kernel_size=(1, 1), stride=(1, 1), bias=False\n",
              "          (static_padding): Identity()\n",
              "        )\n",
              "        (_bn2): BatchNorm2d(48, eps=0.001, momentum=0.010000000000000009, affine=True, track_running_stats=True)\n",
              "        (_swish): MemoryEfficientSwish()\n",
              "      )\n",
              "      (11): MBConvBlock(\n",
              "        (_expand_conv): Conv2dStaticSamePadding(\n",
              "          48, 288, kernel_size=(1, 1), stride=(1, 1), bias=False\n",
              "          (static_padding): Identity()\n",
              "        )\n",
              "        (_bn0): BatchNorm2d(288, eps=0.001, momentum=0.010000000000000009, affine=True, track_running_stats=True)\n",
              "        (_depthwise_conv): Conv2dStaticSamePadding(\n",
              "          288, 288, kernel_size=(5, 5), stride=[2, 2], groups=288, bias=False\n",
              "          (static_padding): ZeroPad2d((1, 2, 1, 2))\n",
              "        )\n",
              "        (_bn1): BatchNorm2d(288, eps=0.001, momentum=0.010000000000000009, affine=True, track_running_stats=True)\n",
              "        (_se_reduce): Conv2dStaticSamePadding(\n",
              "          288, 12, kernel_size=(1, 1), stride=(1, 1)\n",
              "          (static_padding): Identity()\n",
              "        )\n",
              "        (_se_expand): Conv2dStaticSamePadding(\n",
              "          12, 288, kernel_size=(1, 1), stride=(1, 1)\n",
              "          (static_padding): Identity()\n",
              "        )\n",
              "        (_project_conv): Conv2dStaticSamePadding(\n",
              "          288, 80, kernel_size=(1, 1), stride=(1, 1), bias=False\n",
              "          (static_padding): Identity()\n",
              "        )\n",
              "        (_bn2): BatchNorm2d(80, eps=0.001, momentum=0.010000000000000009, affine=True, track_running_stats=True)\n",
              "        (_swish): MemoryEfficientSwish()\n",
              "      )\n",
              "      (12-17): 6 x MBConvBlock(\n",
              "        (_expand_conv): Conv2dStaticSamePadding(\n",
              "          80, 480, kernel_size=(1, 1), stride=(1, 1), bias=False\n",
              "          (static_padding): Identity()\n",
              "        )\n",
              "        (_bn0): BatchNorm2d(480, eps=0.001, momentum=0.010000000000000009, affine=True, track_running_stats=True)\n",
              "        (_depthwise_conv): Conv2dStaticSamePadding(\n",
              "          480, 480, kernel_size=(5, 5), stride=(1, 1), groups=480, bias=False\n",
              "          (static_padding): ZeroPad2d((2, 2, 2, 2))\n",
              "        )\n",
              "        (_bn1): BatchNorm2d(480, eps=0.001, momentum=0.010000000000000009, affine=True, track_running_stats=True)\n",
              "        (_se_reduce): Conv2dStaticSamePadding(\n",
              "          480, 20, kernel_size=(1, 1), stride=(1, 1)\n",
              "          (static_padding): Identity()\n",
              "        )\n",
              "        (_se_expand): Conv2dStaticSamePadding(\n",
              "          20, 480, kernel_size=(1, 1), stride=(1, 1)\n",
              "          (static_padding): Identity()\n",
              "        )\n",
              "        (_project_conv): Conv2dStaticSamePadding(\n",
              "          480, 80, kernel_size=(1, 1), stride=(1, 1), bias=False\n",
              "          (static_padding): Identity()\n",
              "        )\n",
              "        (_bn2): BatchNorm2d(80, eps=0.001, momentum=0.010000000000000009, affine=True, track_running_stats=True)\n",
              "        (_swish): MemoryEfficientSwish()\n",
              "      )\n",
              "      (18): MBConvBlock(\n",
              "        (_expand_conv): Conv2dStaticSamePadding(\n",
              "          80, 480, kernel_size=(1, 1), stride=(1, 1), bias=False\n",
              "          (static_padding): Identity()\n",
              "        )\n",
              "        (_bn0): BatchNorm2d(480, eps=0.001, momentum=0.010000000000000009, affine=True, track_running_stats=True)\n",
              "        (_depthwise_conv): Conv2dStaticSamePadding(\n",
              "          480, 480, kernel_size=(3, 3), stride=[2, 2], groups=480, bias=False\n",
              "          (static_padding): ZeroPad2d((1, 1, 1, 1))\n",
              "        )\n",
              "        (_bn1): BatchNorm2d(480, eps=0.001, momentum=0.010000000000000009, affine=True, track_running_stats=True)\n",
              "        (_se_reduce): Conv2dStaticSamePadding(\n",
              "          480, 20, kernel_size=(1, 1), stride=(1, 1)\n",
              "          (static_padding): Identity()\n",
              "        )\n",
              "        (_se_expand): Conv2dStaticSamePadding(\n",
              "          20, 480, kernel_size=(1, 1), stride=(1, 1)\n",
              "          (static_padding): Identity()\n",
              "        )\n",
              "        (_project_conv): Conv2dStaticSamePadding(\n",
              "          480, 160, kernel_size=(1, 1), stride=(1, 1), bias=False\n",
              "          (static_padding): Identity()\n",
              "        )\n",
              "        (_bn2): BatchNorm2d(160, eps=0.001, momentum=0.010000000000000009, affine=True, track_running_stats=True)\n",
              "        (_swish): MemoryEfficientSwish()\n",
              "      )\n",
              "      (19-27): 9 x MBConvBlock(\n",
              "        (_expand_conv): Conv2dStaticSamePadding(\n",
              "          160, 960, kernel_size=(1, 1), stride=(1, 1), bias=False\n",
              "          (static_padding): Identity()\n",
              "        )\n",
              "        (_bn0): BatchNorm2d(960, eps=0.001, momentum=0.010000000000000009, affine=True, track_running_stats=True)\n",
              "        (_depthwise_conv): Conv2dStaticSamePadding(\n",
              "          960, 960, kernel_size=(3, 3), stride=(1, 1), groups=960, bias=False\n",
              "          (static_padding): ZeroPad2d((1, 1, 1, 1))\n",
              "        )\n",
              "        (_bn1): BatchNorm2d(960, eps=0.001, momentum=0.010000000000000009, affine=True, track_running_stats=True)\n",
              "        (_se_reduce): Conv2dStaticSamePadding(\n",
              "          960, 40, kernel_size=(1, 1), stride=(1, 1)\n",
              "          (static_padding): Identity()\n",
              "        )\n",
              "        (_se_expand): Conv2dStaticSamePadding(\n",
              "          40, 960, kernel_size=(1, 1), stride=(1, 1)\n",
              "          (static_padding): Identity()\n",
              "        )\n",
              "        (_project_conv): Conv2dStaticSamePadding(\n",
              "          960, 160, kernel_size=(1, 1), stride=(1, 1), bias=False\n",
              "          (static_padding): Identity()\n",
              "        )\n",
              "        (_bn2): BatchNorm2d(160, eps=0.001, momentum=0.010000000000000009, affine=True, track_running_stats=True)\n",
              "        (_swish): MemoryEfficientSwish()\n",
              "      )\n",
              "      (28): MBConvBlock(\n",
              "        (_expand_conv): Conv2dStaticSamePadding(\n",
              "          160, 960, kernel_size=(1, 1), stride=(1, 1), bias=False\n",
              "          (static_padding): Identity()\n",
              "        )\n",
              "        (_bn0): BatchNorm2d(960, eps=0.001, momentum=0.010000000000000009, affine=True, track_running_stats=True)\n",
              "        (_depthwise_conv): Conv2dStaticSamePadding(\n",
              "          960, 960, kernel_size=(5, 5), stride=[1, 1], groups=960, bias=False\n",
              "          (static_padding): ZeroPad2d((2, 2, 2, 2))\n",
              "        )\n",
              "        (_bn1): BatchNorm2d(960, eps=0.001, momentum=0.010000000000000009, affine=True, track_running_stats=True)\n",
              "        (_se_reduce): Conv2dStaticSamePadding(\n",
              "          960, 40, kernel_size=(1, 1), stride=(1, 1)\n",
              "          (static_padding): Identity()\n",
              "        )\n",
              "        (_se_expand): Conv2dStaticSamePadding(\n",
              "          40, 960, kernel_size=(1, 1), stride=(1, 1)\n",
              "          (static_padding): Identity()\n",
              "        )\n",
              "        (_project_conv): Conv2dStaticSamePadding(\n",
              "          960, 224, kernel_size=(1, 1), stride=(1, 1), bias=False\n",
              "          (static_padding): Identity()\n",
              "        )\n",
              "        (_bn2): BatchNorm2d(224, eps=0.001, momentum=0.010000000000000009, affine=True, track_running_stats=True)\n",
              "        (_swish): MemoryEfficientSwish()\n",
              "      )\n",
              "      (29-37): 9 x MBConvBlock(\n",
              "        (_expand_conv): Conv2dStaticSamePadding(\n",
              "          224, 1344, kernel_size=(1, 1), stride=(1, 1), bias=False\n",
              "          (static_padding): Identity()\n",
              "        )\n",
              "        (_bn0): BatchNorm2d(1344, eps=0.001, momentum=0.010000000000000009, affine=True, track_running_stats=True)\n",
              "        (_depthwise_conv): Conv2dStaticSamePadding(\n",
              "          1344, 1344, kernel_size=(5, 5), stride=(1, 1), groups=1344, bias=False\n",
              "          (static_padding): ZeroPad2d((2, 2, 2, 2))\n",
              "        )\n",
              "        (_bn1): BatchNorm2d(1344, eps=0.001, momentum=0.010000000000000009, affine=True, track_running_stats=True)\n",
              "        (_se_reduce): Conv2dStaticSamePadding(\n",
              "          1344, 56, kernel_size=(1, 1), stride=(1, 1)\n",
              "          (static_padding): Identity()\n",
              "        )\n",
              "        (_se_expand): Conv2dStaticSamePadding(\n",
              "          56, 1344, kernel_size=(1, 1), stride=(1, 1)\n",
              "          (static_padding): Identity()\n",
              "        )\n",
              "        (_project_conv): Conv2dStaticSamePadding(\n",
              "          1344, 224, kernel_size=(1, 1), stride=(1, 1), bias=False\n",
              "          (static_padding): Identity()\n",
              "        )\n",
              "        (_bn2): BatchNorm2d(224, eps=0.001, momentum=0.010000000000000009, affine=True, track_running_stats=True)\n",
              "        (_swish): MemoryEfficientSwish()\n",
              "      )\n",
              "      (38): MBConvBlock(\n",
              "        (_expand_conv): Conv2dStaticSamePadding(\n",
              "          224, 1344, kernel_size=(1, 1), stride=(1, 1), bias=False\n",
              "          (static_padding): Identity()\n",
              "        )\n",
              "        (_bn0): BatchNorm2d(1344, eps=0.001, momentum=0.010000000000000009, affine=True, track_running_stats=True)\n",
              "        (_depthwise_conv): Conv2dStaticSamePadding(\n",
              "          1344, 1344, kernel_size=(5, 5), stride=[2, 2], groups=1344, bias=False\n",
              "          (static_padding): ZeroPad2d((1, 2, 1, 2))\n",
              "        )\n",
              "        (_bn1): BatchNorm2d(1344, eps=0.001, momentum=0.010000000000000009, affine=True, track_running_stats=True)\n",
              "        (_se_reduce): Conv2dStaticSamePadding(\n",
              "          1344, 56, kernel_size=(1, 1), stride=(1, 1)\n",
              "          (static_padding): Identity()\n",
              "        )\n",
              "        (_se_expand): Conv2dStaticSamePadding(\n",
              "          56, 1344, kernel_size=(1, 1), stride=(1, 1)\n",
              "          (static_padding): Identity()\n",
              "        )\n",
              "        (_project_conv): Conv2dStaticSamePadding(\n",
              "          1344, 384, kernel_size=(1, 1), stride=(1, 1), bias=False\n",
              "          (static_padding): Identity()\n",
              "        )\n",
              "        (_bn2): BatchNorm2d(384, eps=0.001, momentum=0.010000000000000009, affine=True, track_running_stats=True)\n",
              "        (_swish): MemoryEfficientSwish()\n",
              "      )\n",
              "      (39-50): 12 x MBConvBlock(\n",
              "        (_expand_conv): Conv2dStaticSamePadding(\n",
              "          384, 2304, kernel_size=(1, 1), stride=(1, 1), bias=False\n",
              "          (static_padding): Identity()\n",
              "        )\n",
              "        (_bn0): BatchNorm2d(2304, eps=0.001, momentum=0.010000000000000009, affine=True, track_running_stats=True)\n",
              "        (_depthwise_conv): Conv2dStaticSamePadding(\n",
              "          2304, 2304, kernel_size=(5, 5), stride=(1, 1), groups=2304, bias=False\n",
              "          (static_padding): ZeroPad2d((2, 2, 2, 2))\n",
              "        )\n",
              "        (_bn1): BatchNorm2d(2304, eps=0.001, momentum=0.010000000000000009, affine=True, track_running_stats=True)\n",
              "        (_se_reduce): Conv2dStaticSamePadding(\n",
              "          2304, 96, kernel_size=(1, 1), stride=(1, 1)\n",
              "          (static_padding): Identity()\n",
              "        )\n",
              "        (_se_expand): Conv2dStaticSamePadding(\n",
              "          96, 2304, kernel_size=(1, 1), stride=(1, 1)\n",
              "          (static_padding): Identity()\n",
              "        )\n",
              "        (_project_conv): Conv2dStaticSamePadding(\n",
              "          2304, 384, kernel_size=(1, 1), stride=(1, 1), bias=False\n",
              "          (static_padding): Identity()\n",
              "        )\n",
              "        (_bn2): BatchNorm2d(384, eps=0.001, momentum=0.010000000000000009, affine=True, track_running_stats=True)\n",
              "        (_swish): MemoryEfficientSwish()\n",
              "      )\n",
              "      (51): MBConvBlock(\n",
              "        (_expand_conv): Conv2dStaticSamePadding(\n",
              "          384, 2304, kernel_size=(1, 1), stride=(1, 1), bias=False\n",
              "          (static_padding): Identity()\n",
              "        )\n",
              "        (_bn0): BatchNorm2d(2304, eps=0.001, momentum=0.010000000000000009, affine=True, track_running_stats=True)\n",
              "        (_depthwise_conv): Conv2dStaticSamePadding(\n",
              "          2304, 2304, kernel_size=(3, 3), stride=[1, 1], groups=2304, bias=False\n",
              "          (static_padding): ZeroPad2d((1, 1, 1, 1))\n",
              "        )\n",
              "        (_bn1): BatchNorm2d(2304, eps=0.001, momentum=0.010000000000000009, affine=True, track_running_stats=True)\n",
              "        (_se_reduce): Conv2dStaticSamePadding(\n",
              "          2304, 96, kernel_size=(1, 1), stride=(1, 1)\n",
              "          (static_padding): Identity()\n",
              "        )\n",
              "        (_se_expand): Conv2dStaticSamePadding(\n",
              "          96, 2304, kernel_size=(1, 1), stride=(1, 1)\n",
              "          (static_padding): Identity()\n",
              "        )\n",
              "        (_project_conv): Conv2dStaticSamePadding(\n",
              "          2304, 640, kernel_size=(1, 1), stride=(1, 1), bias=False\n",
              "          (static_padding): Identity()\n",
              "        )\n",
              "        (_bn2): BatchNorm2d(640, eps=0.001, momentum=0.010000000000000009, affine=True, track_running_stats=True)\n",
              "        (_swish): MemoryEfficientSwish()\n",
              "      )\n",
              "      (52-54): 3 x MBConvBlock(\n",
              "        (_expand_conv): Conv2dStaticSamePadding(\n",
              "          640, 3840, kernel_size=(1, 1), stride=(1, 1), bias=False\n",
              "          (static_padding): Identity()\n",
              "        )\n",
              "        (_bn0): BatchNorm2d(3840, eps=0.001, momentum=0.010000000000000009, affine=True, track_running_stats=True)\n",
              "        (_depthwise_conv): Conv2dStaticSamePadding(\n",
              "          3840, 3840, kernel_size=(3, 3), stride=(1, 1), groups=3840, bias=False\n",
              "          (static_padding): ZeroPad2d((1, 1, 1, 1))\n",
              "        )\n",
              "        (_bn1): BatchNorm2d(3840, eps=0.001, momentum=0.010000000000000009, affine=True, track_running_stats=True)\n",
              "        (_se_reduce): Conv2dStaticSamePadding(\n",
              "          3840, 160, kernel_size=(1, 1), stride=(1, 1)\n",
              "          (static_padding): Identity()\n",
              "        )\n",
              "        (_se_expand): Conv2dStaticSamePadding(\n",
              "          160, 3840, kernel_size=(1, 1), stride=(1, 1)\n",
              "          (static_padding): Identity()\n",
              "        )\n",
              "        (_project_conv): Conv2dStaticSamePadding(\n",
              "          3840, 640, kernel_size=(1, 1), stride=(1, 1), bias=False\n",
              "          (static_padding): Identity()\n",
              "        )\n",
              "        (_bn2): BatchNorm2d(640, eps=0.001, momentum=0.010000000000000009, affine=True, track_running_stats=True)\n",
              "        (_swish): MemoryEfficientSwish()\n",
              "      )\n",
              "    )\n",
              "    (_conv_head): Conv2dStaticSamePadding(\n",
              "      640, 2560, kernel_size=(1, 1), stride=(1, 1), bias=False\n",
              "      (static_padding): Identity()\n",
              "    )\n",
              "    (_bn1): BatchNorm2d(2560, eps=0.001, momentum=0.010000000000000009, affine=True, track_running_stats=True)\n",
              "    (_avg_pooling): AdaptiveAvgPool2d(output_size=1)\n",
              "    (_dropout): Dropout(p=0.5, inplace=False)\n",
              "    (_swish): MemoryEfficientSwish()\n",
              "  )\n",
              "  (decoder): UnetDecoder(\n",
              "    (center): Identity()\n",
              "    (blocks): ModuleList(\n",
              "      (0): DecoderBlock(\n",
              "        (conv1): Conv2dReLU(\n",
              "          (0): Conv2d(864, 256, kernel_size=(3, 3), stride=(1, 1), padding=(1, 1), bias=False)\n",
              "          (1): BatchNorm2d(256, eps=1e-05, momentum=0.1, affine=True, track_running_stats=True)\n",
              "          (2): ReLU(inplace=True)\n",
              "        )\n",
              "        (attention1): SCSEModule0(\n",
              "          (cSE): Sequential(\n",
              "            (0): AdaptiveAvgPool2d(output_size=1)\n",
              "            (1): Conv2d(864, 54, kernel_size=(1, 1), stride=(1, 1))\n",
              "            (2): ReLU(inplace=True)\n",
              "            (3): Conv2d(54, 864, kernel_size=(1, 1), stride=(1, 1))\n",
              "            (4): Sigmoid()\n",
              "          )\n",
              "          (sSE): Sequential(\n",
              "            (0): Conv2d(864, 1, kernel_size=(1, 1), stride=(1, 1))\n",
              "            (1): Sigmoid()\n",
              "          )\n",
              "          (if_concat): Sequential(\n",
              "            (0): Conv2d(1728, 864, kernel_size=(1, 1), stride=(1, 1))\n",
              "            (1): BatchNorm2d(864, eps=1e-05, momentum=0.1, affine=True, track_running_stats=True)\n",
              "          )\n",
              "        )\n",
              "        (conv2): Conv2dReLU(\n",
              "          (0): Conv2d(256, 256, kernel_size=(3, 3), stride=(1, 1), padding=(1, 1), bias=False)\n",
              "          (1): BatchNorm2d(256, eps=1e-05, momentum=0.1, affine=True, track_running_stats=True)\n",
              "          (2): ReLU(inplace=True)\n",
              "        )\n",
              "        (attention2): SCSEModule0(\n",
              "          (cSE): Sequential(\n",
              "            (0): AdaptiveAvgPool2d(output_size=1)\n",
              "            (1): Conv2d(864, 54, kernel_size=(1, 1), stride=(1, 1))\n",
              "            (2): ReLU(inplace=True)\n",
              "            (3): Conv2d(54, 864, kernel_size=(1, 1), stride=(1, 1))\n",
              "            (4): Sigmoid()\n",
              "          )\n",
              "          (sSE): Sequential(\n",
              "            (0): Conv2d(864, 1, kernel_size=(1, 1), stride=(1, 1))\n",
              "            (1): Sigmoid()\n",
              "          )\n",
              "          (if_concat): Sequential(\n",
              "            (0): Conv2d(1728, 864, kernel_size=(1, 1), stride=(1, 1))\n",
              "            (1): BatchNorm2d(864, eps=1e-05, momentum=0.1, affine=True, track_running_stats=True)\n",
              "          )\n",
              "        )\n",
              "      )\n",
              "      (1): DecoderBlock(\n",
              "        (conv1): Conv2dReLU(\n",
              "          (0): Conv2d(336, 128, kernel_size=(3, 3), stride=(1, 1), padding=(1, 1), bias=False)\n",
              "          (1): BatchNorm2d(128, eps=1e-05, momentum=0.1, affine=True, track_running_stats=True)\n",
              "          (2): ReLU(inplace=True)\n",
              "        )\n",
              "        (attention1): SCSEModule0(\n",
              "          (cSE): Sequential(\n",
              "            (0): AdaptiveAvgPool2d(output_size=1)\n",
              "            (1): Conv2d(336, 21, kernel_size=(1, 1), stride=(1, 1))\n",
              "            (2): ReLU(inplace=True)\n",
              "            (3): Conv2d(21, 336, kernel_size=(1, 1), stride=(1, 1))\n",
              "            (4): Sigmoid()\n",
              "          )\n",
              "          (sSE): Sequential(\n",
              "            (0): Conv2d(336, 1, kernel_size=(1, 1), stride=(1, 1))\n",
              "            (1): Sigmoid()\n",
              "          )\n",
              "          (if_concat): Sequential(\n",
              "            (0): Conv2d(672, 336, kernel_size=(1, 1), stride=(1, 1))\n",
              "            (1): BatchNorm2d(336, eps=1e-05, momentum=0.1, affine=True, track_running_stats=True)\n",
              "          )\n",
              "        )\n",
              "        (conv2): Conv2dReLU(\n",
              "          (0): Conv2d(128, 128, kernel_size=(3, 3), stride=(1, 1), padding=(1, 1), bias=False)\n",
              "          (1): BatchNorm2d(128, eps=1e-05, momentum=0.1, affine=True, track_running_stats=True)\n",
              "          (2): ReLU(inplace=True)\n",
              "        )\n",
              "        (attention2): SCSEModule0(\n",
              "          (cSE): Sequential(\n",
              "            (0): AdaptiveAvgPool2d(output_size=1)\n",
              "            (1): Conv2d(336, 21, kernel_size=(1, 1), stride=(1, 1))\n",
              "            (2): ReLU(inplace=True)\n",
              "            (3): Conv2d(21, 336, kernel_size=(1, 1), stride=(1, 1))\n",
              "            (4): Sigmoid()\n",
              "          )\n",
              "          (sSE): Sequential(\n",
              "            (0): Conv2d(336, 1, kernel_size=(1, 1), stride=(1, 1))\n",
              "            (1): Sigmoid()\n",
              "          )\n",
              "          (if_concat): Sequential(\n",
              "            (0): Conv2d(672, 336, kernel_size=(1, 1), stride=(1, 1))\n",
              "            (1): BatchNorm2d(336, eps=1e-05, momentum=0.1, affine=True, track_running_stats=True)\n",
              "          )\n",
              "        )\n",
              "      )\n",
              "      (2): DecoderBlock(\n",
              "        (conv1): Conv2dReLU(\n",
              "          (0): Conv2d(176, 64, kernel_size=(3, 3), stride=(1, 1), padding=(1, 1), bias=False)\n",
              "          (1): BatchNorm2d(64, eps=1e-05, momentum=0.1, affine=True, track_running_stats=True)\n",
              "          (2): ReLU(inplace=True)\n",
              "        )\n",
              "        (attention1): SCSEModule0(\n",
              "          (cSE): Sequential(\n",
              "            (0): AdaptiveAvgPool2d(output_size=1)\n",
              "            (1): Conv2d(176, 11, kernel_size=(1, 1), stride=(1, 1))\n",
              "            (2): ReLU(inplace=True)\n",
              "            (3): Conv2d(11, 176, kernel_size=(1, 1), stride=(1, 1))\n",
              "            (4): Sigmoid()\n",
              "          )\n",
              "          (sSE): Sequential(\n",
              "            (0): Conv2d(176, 1, kernel_size=(1, 1), stride=(1, 1))\n",
              "            (1): Sigmoid()\n",
              "          )\n",
              "          (if_concat): Sequential(\n",
              "            (0): Conv2d(352, 176, kernel_size=(1, 1), stride=(1, 1))\n",
              "            (1): BatchNorm2d(176, eps=1e-05, momentum=0.1, affine=True, track_running_stats=True)\n",
              "          )\n",
              "        )\n",
              "        (conv2): Conv2dReLU(\n",
              "          (0): Conv2d(64, 64, kernel_size=(3, 3), stride=(1, 1), padding=(1, 1), bias=False)\n",
              "          (1): BatchNorm2d(64, eps=1e-05, momentum=0.1, affine=True, track_running_stats=True)\n",
              "          (2): ReLU(inplace=True)\n",
              "        )\n",
              "        (attention2): SCSEModule0(\n",
              "          (cSE): Sequential(\n",
              "            (0): AdaptiveAvgPool2d(output_size=1)\n",
              "            (1): Conv2d(176, 11, kernel_size=(1, 1), stride=(1, 1))\n",
              "            (2): ReLU(inplace=True)\n",
              "            (3): Conv2d(11, 176, kernel_size=(1, 1), stride=(1, 1))\n",
              "            (4): Sigmoid()\n",
              "          )\n",
              "          (sSE): Sequential(\n",
              "            (0): Conv2d(176, 1, kernel_size=(1, 1), stride=(1, 1))\n",
              "            (1): Sigmoid()\n",
              "          )\n",
              "          (if_concat): Sequential(\n",
              "            (0): Conv2d(352, 176, kernel_size=(1, 1), stride=(1, 1))\n",
              "            (1): BatchNorm2d(176, eps=1e-05, momentum=0.1, affine=True, track_running_stats=True)\n",
              "          )\n",
              "        )\n",
              "      )\n",
              "      (3): DecoderBlock(\n",
              "        (conv1): Conv2dReLU(\n",
              "          (0): Conv2d(128, 32, kernel_size=(3, 3), stride=(1, 1), padding=(1, 1), bias=False)\n",
              "          (1): BatchNorm2d(32, eps=1e-05, momentum=0.1, affine=True, track_running_stats=True)\n",
              "          (2): ReLU(inplace=True)\n",
              "        )\n",
              "        (attention1): SCSEModule0(\n",
              "          (cSE): Sequential(\n",
              "            (0): AdaptiveAvgPool2d(output_size=1)\n",
              "            (1): Conv2d(128, 8, kernel_size=(1, 1), stride=(1, 1))\n",
              "            (2): ReLU(inplace=True)\n",
              "            (3): Conv2d(8, 128, kernel_size=(1, 1), stride=(1, 1))\n",
              "            (4): Sigmoid()\n",
              "          )\n",
              "          (sSE): Sequential(\n",
              "            (0): Conv2d(128, 1, kernel_size=(1, 1), stride=(1, 1))\n",
              "            (1): Sigmoid()\n",
              "          )\n",
              "          (if_concat): Sequential(\n",
              "            (0): Conv2d(256, 128, kernel_size=(1, 1), stride=(1, 1))\n",
              "            (1): BatchNorm2d(128, eps=1e-05, momentum=0.1, affine=True, track_running_stats=True)\n",
              "          )\n",
              "        )\n",
              "        (conv2): Conv2dReLU(\n",
              "          (0): Conv2d(32, 32, kernel_size=(3, 3), stride=(1, 1), padding=(1, 1), bias=False)\n",
              "          (1): BatchNorm2d(32, eps=1e-05, momentum=0.1, affine=True, track_running_stats=True)\n",
              "          (2): ReLU(inplace=True)\n",
              "        )\n",
              "        (attention2): SCSEModule0(\n",
              "          (cSE): Sequential(\n",
              "            (0): AdaptiveAvgPool2d(output_size=1)\n",
              "            (1): Conv2d(128, 8, kernel_size=(1, 1), stride=(1, 1))\n",
              "            (2): ReLU(inplace=True)\n",
              "            (3): Conv2d(8, 128, kernel_size=(1, 1), stride=(1, 1))\n",
              "            (4): Sigmoid()\n",
              "          )\n",
              "          (sSE): Sequential(\n",
              "            (0): Conv2d(128, 1, kernel_size=(1, 1), stride=(1, 1))\n",
              "            (1): Sigmoid()\n",
              "          )\n",
              "          (if_concat): Sequential(\n",
              "            (0): Conv2d(256, 128, kernel_size=(1, 1), stride=(1, 1))\n",
              "            (1): BatchNorm2d(128, eps=1e-05, momentum=0.1, affine=True, track_running_stats=True)\n",
              "          )\n",
              "        )\n",
              "      )\n",
              "      (4): DecoderBlock(\n",
              "        (conv1): Conv2dReLU(\n",
              "          (0): Conv2d(32, 16, kernel_size=(3, 3), stride=(1, 1), padding=(1, 1), bias=False)\n",
              "          (1): BatchNorm2d(16, eps=1e-05, momentum=0.1, affine=True, track_running_stats=True)\n",
              "          (2): ReLU(inplace=True)\n",
              "        )\n",
              "        (attention1): SCSEModule0(\n",
              "          (cSE): Sequential(\n",
              "            (0): AdaptiveAvgPool2d(output_size=1)\n",
              "            (1): Conv2d(32, 2, kernel_size=(1, 1), stride=(1, 1))\n",
              "            (2): ReLU(inplace=True)\n",
              "            (3): Conv2d(2, 32, kernel_size=(1, 1), stride=(1, 1))\n",
              "            (4): Sigmoid()\n",
              "          )\n",
              "          (sSE): Sequential(\n",
              "            (0): Conv2d(32, 1, kernel_size=(1, 1), stride=(1, 1))\n",
              "            (1): Sigmoid()\n",
              "          )\n",
              "          (if_concat): Sequential(\n",
              "            (0): Conv2d(64, 32, kernel_size=(1, 1), stride=(1, 1))\n",
              "            (1): BatchNorm2d(32, eps=1e-05, momentum=0.1, affine=True, track_running_stats=True)\n",
              "          )\n",
              "        )\n",
              "        (conv2): Conv2dReLU(\n",
              "          (0): Conv2d(16, 16, kernel_size=(3, 3), stride=(1, 1), padding=(1, 1), bias=False)\n",
              "          (1): BatchNorm2d(16, eps=1e-05, momentum=0.1, affine=True, track_running_stats=True)\n",
              "          (2): ReLU(inplace=True)\n",
              "        )\n",
              "        (attention2): SCSEModule0(\n",
              "          (cSE): Sequential(\n",
              "            (0): AdaptiveAvgPool2d(output_size=1)\n",
              "            (1): Conv2d(32, 2, kernel_size=(1, 1), stride=(1, 1))\n",
              "            (2): ReLU(inplace=True)\n",
              "            (3): Conv2d(2, 32, kernel_size=(1, 1), stride=(1, 1))\n",
              "            (4): Sigmoid()\n",
              "          )\n",
              "          (sSE): Sequential(\n",
              "            (0): Conv2d(32, 1, kernel_size=(1, 1), stride=(1, 1))\n",
              "            (1): Sigmoid()\n",
              "          )\n",
              "          (if_concat): Sequential(\n",
              "            (0): Conv2d(64, 32, kernel_size=(1, 1), stride=(1, 1))\n",
              "            (1): BatchNorm2d(32, eps=1e-05, momentum=0.1, affine=True, track_running_stats=True)\n",
              "          )\n",
              "        )\n",
              "      )\n",
              "    )\n",
              "  )\n",
              "  (segmentation_head): SegmentationHead(\n",
              "    (0): Conv2d(16, 1, kernel_size=(3, 3), stride=(1, 1), padding=(1, 1))\n",
              "    (1): Identity()\n",
              "    (2): Activation(\n",
              "      (activation): Sigmoid()\n",
              "    )\n",
              "  )\n",
              ")"
            ]
          },
          "metadata": {},
          "execution_count": 27
        }
      ]
    },
    {
      "cell_type": "code",
      "source": [
        "from torchsummary import summary "
      ],
      "metadata": {
        "id": "wR2x4rikOn7t"
      },
      "execution_count": null,
      "outputs": []
    },
    {
      "cell_type": "code",
      "source": [
        "model.to(\"cuda\")\n",
        "summary(model, (3, 224, 224))"
      ],
      "metadata": {
        "id": "GSt97ZcDOply"
      },
      "execution_count": null,
      "outputs": []
    },
    {
      "cell_type": "code",
      "source": [
        "# Extract all layers\n",
        "layers = list(model.children())"
      ],
      "metadata": {
        "id": "-QMBMTc-jzlS"
      },
      "execution_count": null,
      "outputs": []
    },
    {
      "cell_type": "code",
      "source": [
        "# Extract a layer\n",
        "model.encoder._conv_stem"
      ],
      "metadata": {
        "id": "0XXlDh7xkXon",
        "colab": {
          "base_uri": "https://localhost:8080/"
        },
        "outputId": "d1310bcd-aff9-4ab0-c748-acff75b6385c"
      },
      "execution_count": null,
      "outputs": [
        {
          "output_type": "execute_result",
          "data": {
            "text/plain": [
              "Conv2dStaticSamePadding(\n",
              "  3, 64, kernel_size=(3, 3), stride=(2, 2), bias=False\n",
              "  (static_padding): ZeroPad2d((0, 1, 0, 1))\n",
              ")"
            ]
          },
          "metadata": {},
          "execution_count": 23
        }
      ]
    },
    {
      "cell_type": "code",
      "source": [
        "model.decoder.blocks[0].conv1[2]"
      ],
      "metadata": {
        "id": "xOjrfEy7p_df",
        "colab": {
          "base_uri": "https://localhost:8080/"
        },
        "outputId": "05dcc0e3-40ae-4089-b337-5a3263c15ac1"
      },
      "execution_count": null,
      "outputs": [
        {
          "output_type": "execute_result",
          "data": {
            "text/plain": [
              "ReLU(inplace=True)"
            ]
          },
          "metadata": {},
          "execution_count": 24
        }
      ]
    },
    {
      "cell_type": "code",
      "source": [
        "model.decoder.blocks[0].attention2"
      ],
      "metadata": {
        "id": "akNFVIxJSHTm",
        "colab": {
          "base_uri": "https://localhost:8080/"
        },
        "outputId": "fce7e95c-d563-497f-e600-80298009c52a"
      },
      "execution_count": null,
      "outputs": [
        {
          "output_type": "execute_result",
          "data": {
            "text/plain": [
              "SCSEModule0(\n",
              "  (cSE): Sequential(\n",
              "    (0): AdaptiveAvgPool2d(output_size=1)\n",
              "    (1): Conv2d(864, 54, kernel_size=(1, 1), stride=(1, 1))\n",
              "    (2): ReLU(inplace=True)\n",
              "    (3): Conv2d(54, 864, kernel_size=(1, 1), stride=(1, 1))\n",
              "    (4): Sigmoid()\n",
              "  )\n",
              "  (sSE): Sequential(\n",
              "    (0): Conv2d(864, 1, kernel_size=(1, 1), stride=(1, 1))\n",
              "    (1): Sigmoid()\n",
              "  )\n",
              "  (if_concat): Sequential(\n",
              "    (0): Conv2d(1728, 864, kernel_size=(1, 1), stride=(1, 1))\n",
              "    (1): BatchNorm2d(864, eps=1e-05, momentum=0.1, affine=True, track_running_stats=True)\n",
              "  )\n",
              ")"
            ]
          },
          "metadata": {},
          "execution_count": 29
        }
      ]
    },
    {
      "cell_type": "code",
      "source": [
        "model"
      ],
      "metadata": {
        "id": "a2yUkTD6Rq73"
      },
      "execution_count": null,
      "outputs": []
    },
    {
      "cell_type": "code",
      "source": [
        "# Create a hook\n",
        "# (Ref: https://discuss.pytorch.org/t/how-can-l-load-my-best-model-as-a-feature-extractor-evaluator/17254/6,\n",
        "# https://kozodoi.me/python/deep%20learning/pytorch/tutorial/2021/05/27/extracting-features.html)\n",
        "\n",
        "int_feat = {} # intermediate features\n",
        "def intermediate_features(name):\n",
        "    def hook(model, input, output):\n",
        "        int_feat[name] = output.detach()\n",
        "    return hook\n",
        "\n",
        "# model.decoder.blocks[0].conv1[2].register_forward_hook(intermediate_features('feat'))\n",
        "\n",
        "model.decoder.blocks[0].attention1.register_forward_hook(intermediate_features('b0_attn1')) # max-out\n",
        "model.decoder.blocks[0].attention2.register_forward_hook(intermediate_features('b0_attn2')) # additive\n",
        "\n",
        "model.decoder.blocks[0].conv1.register_forward_hook(intermediate_features('b0_conv1'))\n",
        "\n",
        "model.decoder.blocks[1].attention1.register_forward_hook(intermediate_features('b1_attn1')) # max-out\n",
        "model.decoder.blocks[1].attention2.register_forward_hook(intermediate_features('b1_attn2')) # additive\n",
        "\n",
        "model.decoder.blocks[1].conv1.register_forward_hook(intermediate_features('b1_conv1'))\n",
        "\n",
        "model.decoder.blocks[2].attention1.register_forward_hook(intermediate_features('b2_attn1')) # max-out\n",
        "model.decoder.blocks[2].attention2.register_forward_hook(intermediate_features('b2_attn2')) # additive\n",
        "\n",
        "model.decoder.blocks[2].conv1.register_forward_hook(intermediate_features('b2_conv1'))\n",
        "\n",
        "model.decoder.blocks[3].attention1.register_forward_hook(intermediate_features('b3_attn1')) # max-out\n",
        "model.decoder.blocks[3].attention2.register_forward_hook(intermediate_features('b3_attn2')) # additive\n",
        "\n",
        "model.decoder.blocks[3].conv1.register_forward_hook(intermediate_features('b3_conv1'))\n",
        "\n",
        "# model.decoder.blocks[4].attention1.register_forward_hook(intermediate_features('b4_attn1')) # last stage don't have max-out\n",
        "model.decoder.blocks[4].attention2.register_forward_hook(intermediate_features('b4_attn2')) # additive\n",
        "\n",
        "model.decoder.blocks[4].conv1.register_forward_hook(intermediate_features('b4_conv1')) # final output\n"
      ],
      "metadata": {
        "id": "ANG9UgorrxqF",
        "colab": {
          "base_uri": "https://localhost:8080/"
        },
        "outputId": "7735772f-f8a3-42eb-8f96-16a000433d70"
      },
      "execution_count": null,
      "outputs": [
        {
          "output_type": "execute_result",
          "data": {
            "text/plain": [
              "<torch.utils.hooks.RemovableHandle at 0x7fe961fc2970>"
            ]
          },
          "metadata": {},
          "execution_count": 39
        }
      ]
    },
    {
      "cell_type": "code",
      "source": [
        "test_dataset = Dataset(\n",
        "    list_IDs_test,\n",
        "    x_test_dir, \n",
        "    y_test_dir, \n",
        "    augmentation=get_validation_augmentation(), \n",
        "    preprocessing=get_preprocessing(preprocessing_fn),\n",
        ")\n",
        "\n",
        "test_dataloader = DataLoader(test_dataset, \n",
        "                             batch_size=1, \n",
        "                             shuffle=False, \n",
        "                             num_workers=6)\n",
        "\n",
        "it = iter(test_dataloader)"
      ],
      "metadata": {
        "id": "9wyw3EcNs1U5"
      },
      "execution_count": null,
      "outputs": []
    },
    {
      "cell_type": "code",
      "source": [
        "img, mask = next(it)"
      ],
      "metadata": {
        "id": "vosK4a7etYa4"
      },
      "execution_count": null,
      "outputs": []
    },
    {
      "cell_type": "code",
      "source": [
        "img.size()"
      ],
      "metadata": {
        "id": "5IClPXuOvJeB",
        "colab": {
          "base_uri": "https://localhost:8080/"
        },
        "outputId": "e367b818-6c06-4874-c4c5-5c12b8f848ff"
      },
      "execution_count": null,
      "outputs": [
        {
          "output_type": "execute_result",
          "data": {
            "text/plain": [
              "torch.Size([1, 3, 224, 224])"
            ]
          },
          "metadata": {},
          "execution_count": 33
        }
      ]
    },
    {
      "cell_type": "code",
      "source": [
        "img2 = torch.permute(torch.squeeze(img), [-1, 1, 0]) # convert from CHW to HWC"
      ],
      "metadata": {
        "id": "ON-NMtqvtnsv"
      },
      "execution_count": null,
      "outputs": []
    },
    {
      "cell_type": "code",
      "source": [
        "img2.size()"
      ],
      "metadata": {
        "id": "-5PcsVg9uCWX"
      },
      "execution_count": null,
      "outputs": []
    },
    {
      "cell_type": "code",
      "source": [
        "plt.imshow(img2)"
      ],
      "metadata": {
        "id": "m2hNfBdyuJdf",
        "colab": {
          "base_uri": "https://localhost:8080/",
          "height": 469
        },
        "outputId": "4c04bc73-ff92-4ee7-9e67-d90ccbc6cb18"
      },
      "execution_count": null,
      "outputs": [
        {
          "output_type": "stream",
          "name": "stderr",
          "text": [
            "WARNING:matplotlib.image:Clipping input data to the valid range for imshow with RGB data ([0..1] for floats or [0..255] for integers).\n"
          ]
        },
        {
          "output_type": "execute_result",
          "data": {
            "text/plain": [
              "<matplotlib.image.AxesImage at 0x7fb3b7f47550>"
            ]
          },
          "metadata": {},
          "execution_count": 53
        },
        {
          "output_type": "display_data",
          "data": {
            "text/plain": [
              "<Figure size 640x480 with 1 Axes>"
            ],
            "image/png": "[encoded data removed]"
          },
          "metadata": {}
        }
      ]
    },
    {
      "cell_type": "code",
      "source": [
        "# Run from Dataset class\n",
        "idx = 273 #0 #273 # 12 # 10\n",
        "\n",
        "# Read original image\n",
        "org_img = cv2.imread(os.path.join(x_test_dir, list_IDs_test[idx]))[:,:,::-1]\n",
        "\n",
        "# Read standardize image and mask using the Dataset class\n",
        "img, mask = test_dataset[idx] # get image and mask\n",
        "    \n",
        "img = torch.from_numpy(img).to(DEVICE).unsqueeze(0) # convert to tensor and add batch axis\n",
        "\n",
        "print('Image size:', img.size())"
      ],
      "metadata": {
        "id": "9z85hkT9rtGZ",
        "colab": {
          "base_uri": "https://localhost:8080/"
        },
        "outputId": "ac192b42-04e0-4a73-b44d-2628da245b29"
      },
      "execution_count": null,
      "outputs": [
        {
          "output_type": "stream",
          "name": "stdout",
          "text": [
            "Image size: torch.Size([1, 3, 224, 224])\n"
          ]
        }
      ]
    },
    {
      "cell_type": "code",
      "source": [
        "fig, ax = plt.subplots(1,2)\n",
        "ax[0].imshow(org_img)\n",
        "ax[1].imshow(img.squeeze().permute([1, 2, 0]).cpu())"
      ],
      "metadata": {
        "id": "zTOCtugwsuGz",
        "colab": {
          "base_uri": "https://localhost:8080/",
          "height": 326
        },
        "outputId": "8675349a-ac1a-4e8b-8ab3-54feb7c8bea3"
      },
      "execution_count": null,
      "outputs": [
        {
          "output_type": "stream",
          "name": "stderr",
          "text": [
            "WARNING:matplotlib.image:Clipping input data to the valid range for imshow with RGB data ([0..1] for floats or [0..255] for integers).\n"
          ]
        },
        {
          "output_type": "execute_result",
          "data": {
            "text/plain": [
              "<matplotlib.image.AxesImage at 0x7fe9444b7e20>"
            ]
          },
          "metadata": {},
          "execution_count": 60
        },
        {
          "output_type": "display_data",
          "data": {
            "text/plain": [
              "<Figure size 640x480 with 2 Axes>"
            ],
            "image/png": "[encoded data removed]"
          },
          "metadata": {}
        }
      ]
    },
    {
      "cell_type": "code",
      "source": [
        "output = model(img.to(DEVICE))\n",
        "\n",
        "b0_attn1 = int_feat[\"b0_attn1\"]\n",
        "b0_attn2 = int_feat[\"b0_attn2\"]\n",
        "b0_conv1 = int_feat[\"b0_conv1\"]\n",
        "\n",
        "b1_attn1 = int_feat[\"b1_attn1\"]\n",
        "b1_attn2 = int_feat[\"b1_attn2\"]\n",
        "b1_conv1 = int_feat[\"b1_conv1\"]\n",
        "\n",
        "b2_attn1 = int_feat[\"b2_attn1\"]\n",
        "b2_attn2 = int_feat[\"b2_attn2\"]\n",
        "b2_conv1 = int_feat[\"b2_conv1\"]\n",
        "\n",
        "b3_attn1 = int_feat[\"b3_attn1\"]\n",
        "b3_attn2 = int_feat[\"b3_attn2\"]\n",
        "b3_conv1 = int_feat[\"b3_conv1\"]\n",
        "\n",
        "# b4_attn1 = int_feat[\"b4_attn1\"]\n",
        "b4_attn2 = int_feat[\"b4_attn2\"]\n",
        "b4_conv1 = int_feat[\"b4_conv1\"]"
      ],
      "metadata": {
        "id": "JSIpcwc0uNfY"
      },
      "execution_count": null,
      "outputs": []
    },
    {
      "cell_type": "code",
      "source": [
        "def avg_output(input):\n",
        "  \"\"\"\n",
        "  Take the average along the channel axis.\n",
        "\n",
        "  Input\n",
        "  -------\n",
        "  input: A tensor. Size: batch x ch x H x W\n",
        "\n",
        "  Output\n",
        "  -------\n",
        "  output: A tensor. Returns average image.\n",
        "\n",
        "  \"\"\"\n",
        "\n",
        "  output = torch.squeeze(input)\n",
        "  output = torch.sum(output, dim=0)\n",
        "  output = output / output.size()[0]\n",
        "\n",
        "  return output"
      ],
      "metadata": {
        "id": "fjMsdp6tvvRY"
      },
      "execution_count": null,
      "outputs": []
    },
    {
      "cell_type": "code",
      "source": [
        "# Create output for visualization\n",
        "# Output shape -> batch, channel, height, width\n",
        "\n",
        "# int_output = torch.squeeze(int_out) \n",
        "# int_output = torch.sum(int_output, dim=0)\n",
        "# int_output = int_output / int_output.size()[0]\n",
        "\n",
        "b0_attn = avg_output(b0_attn1 + b0_attn2)\n",
        "b0_conv1 = avg_output(b0_conv1)\n",
        "\n",
        "b1_attn = avg_output(b1_attn1 + b1_attn2)\n",
        "b1_conv1 = avg_output(b1_conv1)\n",
        "\n",
        "b2_attn = avg_output(b2_attn1 + b2_attn2)\n",
        "b2_conv1 = avg_output(b2_conv1)\n",
        "\n",
        "b3_attn = avg_output(b3_attn1 + b3_attn2)\n",
        "b3_conv1 = avg_output(b3_conv1)\n",
        "\n",
        "b4_attn = avg_output(b4_attn2)\n",
        "b4_conv1 = avg_output(b4_conv1)"
      ],
      "metadata": {
        "id": "lQg9VfhhweHx"
      },
      "execution_count": null,
      "outputs": []
    },
    {
      "cell_type": "code",
      "source": [
        "# int_output\n",
        "b4_conv1.shape"
      ],
      "metadata": {
        "id": "tr99h7bkxcoI",
        "colab": {
          "base_uri": "https://localhost:8080/"
        },
        "outputId": "7fca8a20-b4af-430e-cd26-086f2992b934"
      },
      "execution_count": null,
      "outputs": [
        {
          "output_type": "execute_result",
          "data": {
            "text/plain": [
              "torch.Size([224, 224])"
            ]
          },
          "metadata": {},
          "execution_count": 64
        }
      ]
    },
    {
      "cell_type": "code",
      "source": [
        "fig, ax = plt.subplots(2, 6, figsize=(13, 5))\n",
        "\n",
        "ax[0][0].imshow(b0_attn.cpu(), cmap='gray')\n",
        "ax[0][0].set_xticklabels([]); ax[0][0].set_yticklabels([])\n",
        "ax[0][0].set_title('Attention 4')\n",
        "\n",
        "ax[0][1].imshow(b1_attn.cpu(), cmap='gray')\n",
        "ax[0][1].set_xticklabels([]); ax[0][1].set_yticklabels([])\n",
        "ax[0][1].set_title('Attention 3')\n",
        "\n",
        "ax[0][2].imshow(b2_attn.cpu(), cmap='gray')\n",
        "ax[0][2].set_xticklabels([]); ax[0][2].set_yticklabels([])\n",
        "ax[0][2].set_title('Attention 2')\n",
        "\n",
        "ax[0][3].imshow(b3_attn.cpu(), cmap='gray')\n",
        "ax[0][3].set_xticklabels([]); ax[0][3].set_yticklabels([])\n",
        "ax[0][3].set_title('Attention 1')\n",
        "\n",
        "ax[0][4].imshow(b4_attn.cpu(), cmap='gray')\n",
        "ax[0][4].set_xticklabels([]); ax[0][4].set_yticklabels([])\n",
        "ax[0][4].set_title('Attention 0')\n",
        "\n",
        "ax[1][0].imshow(b0_conv1.cpu(), cmap='gray')\n",
        "ax[1][0].set_xticklabels([]); ax[1][0].set_yticklabels([])\n",
        "ax[1][0].set_title('Decoder 4')\n",
        "\n",
        "ax[1][1].imshow(b1_conv1.cpu(), cmap='gray')\n",
        "ax[1][1].set_xticklabels([]); ax[1][1].set_yticklabels([])\n",
        "ax[1][1].set_title('Decoder 3')\n",
        "\n",
        "ax[1][2].imshow(b2_conv1.cpu(), cmap='gray')\n",
        "ax[1][2].set_xticklabels([]); ax[1][2].set_yticklabels([])\n",
        "ax[1][2].set_title('Decoder 2')\n",
        "\n",
        "ax[1][3].imshow(b3_conv1.cpu(), cmap='gray')\n",
        "ax[1][3].set_xticklabels([]); ax[1][3].set_yticklabels([])\n",
        "ax[1][3].set_title('Decoder 1')\n",
        "\n",
        "ax[1][4].imshow(output.squeeze().detach().cpu(), cmap='gray')\n",
        "# ax[1][4].imshow(b4_conv1.cpu(), cmap='gray')\n",
        "ax[1][4].set_xticklabels([]); ax[1][4].set_yticklabels([])\n",
        "ax[1][4].set_title('Decoder 0')\n",
        "\n",
        "ax[0][5].imshow(org_img)\n",
        "ax[0][5].set_xticklabels([]); ax[0][5].set_yticklabels([])\n",
        "ax[0][5].set_title('Original image')\n",
        "ax[1][5].imshow(np.squeeze(mask), cmap='gray')\n",
        "ax[1][5].set_xticklabels([]); ax[1][5].set_yticklabels([])\n",
        "ax[1][5].set_title('Ground truth')\n",
        "\n",
        "fig.tight_layout()\n",
        "fig.subplots_adjust(wspace=0.02, hspace=0.1)\n",
        "\n",
        "save_fig_dir = \"/content/drive/MyDrive/Foot_ulcer_torch/plots_oldDfu/attention_output\"\n",
        "if not os.path.exists(save_fig_dir): os.makedirs(save_fig_dir)\n",
        "\n",
        "fig.savefig(os.path.join(save_fig_dir, model_name + '_idx_' + str(idx) + '.png'))"
      ],
      "metadata": {
        "id": "DRJYloC2jOq6",
        "colab": {
          "base_uri": "https://localhost:8080/",
          "height": 514
        },
        "outputId": "effd897e-178b-497f-ae56-92565f16c826"
      },
      "execution_count": null,
      "outputs": [
        {
          "output_type": "display_data",
          "data": {
            "text/plain": [
              "<Figure size 1300x500 with 12 Axes>"
            ],
            "image/png": "[encoded data removed]"
          },
          "metadata": {}
        }
      ]
    },
    {
      "cell_type": "code",
      "source": [
        "output.squeeze().cpu().size()"
      ],
      "metadata": {
        "id": "WGjk7UXzqfsK",
        "colab": {
          "base_uri": "https://localhost:8080/"
        },
        "outputId": "d4e00784-1a78-4837-e039-891933489818"
      },
      "execution_count": null,
      "outputs": [
        {
          "output_type": "execute_result",
          "data": {
            "text/plain": [
              "torch.Size([224, 224])"
            ]
          },
          "metadata": {},
          "execution_count": 69
        }
      ]
    },
    {
      "cell_type": "code",
      "source": [
        "plt.imshow(b4_conv1.cpu(), cmap='gray')"
      ],
      "metadata": {
        "id": "rG6WWLGXxf4H",
        "colab": {
          "base_uri": "https://localhost:8080/",
          "height": 451
        },
        "outputId": "35bc39df-1952-4687-91a1-53defda0bb62"
      },
      "execution_count": null,
      "outputs": [
        {
          "output_type": "execute_result",
          "data": {
            "text/plain": [
              "<matplotlib.image.AxesImage at 0x7fb3b63f1040>"
            ]
          },
          "metadata": {},
          "execution_count": 70
        },
        {
          "output_type": "display_data",
          "data": {
            "text/plain": [
              "<Figure size 640x480 with 1 Axes>"
            ],
            "image/png": "[encoded data removed]"
          },
          "metadata": {}
        }
      ]
    }
  ],
  "metadata": {
    "accelerator": "GPU",
    "colab": {
      "machine_shape": "hm",
      "provenance": []
    },
    "gpuClass": "standard",
    "kernelspec": {
      "display_name": "Python 3",
      "name": "python3"
    },
    "language_info": {
      "name": "python"
    }
  },
  "nbformat": 4,
  "nbformat_minor": 0
}